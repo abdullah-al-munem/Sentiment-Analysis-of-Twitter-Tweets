{
 "cells": [
  {
   "cell_type": "markdown",
   "metadata": {
    "id": "zXVA9DCvoixw"
   },
   "source": [
    "Importing Dependencies"
   ]
  },
  {
   "cell_type": "code",
   "execution_count": 1,
   "metadata": {
    "id": "frSISia1BdN3"
   },
   "outputs": [],
   "source": [
    "import numpy as np\n",
    "import pandas as pd\n",
    "import re\n",
    "from nltk.corpus import stopwords\n",
    "from nltk.stem.porter import PorterStemmer\n",
    "from sklearn.feature_extraction.text import TfidfVectorizer\n",
    "from sklearn.model_selection import train_test_split\n",
    "from sklearn.metrics import accuracy_score, confusion_matrix, precision_score, recall_score"
   ]
  },
  {
   "cell_type": "code",
   "execution_count": 2,
   "metadata": {
    "colab": {
     "base_uri": "https://localhost:8080/"
    },
    "id": "JMmXMGjvroUq",
    "outputId": "7138a101-2eee-4f09-96c9-c8d6bce12f4c"
   },
   "outputs": [
    {
     "name": "stderr",
     "output_type": "stream",
     "text": [
      "[nltk_data] Downloading package stopwords to\n",
      "[nltk_data]     C:\\Users\\Munem\\AppData\\Roaming\\nltk_data...\n",
      "[nltk_data]   Package stopwords is already up-to-date!\n"
     ]
    },
    {
     "data": {
      "text/plain": [
       "True"
      ]
     },
     "execution_count": 2,
     "metadata": {},
     "output_type": "execute_result"
    }
   ],
   "source": [
    "import nltk\n",
    "nltk.download('stopwords')"
   ]
  },
  {
   "cell_type": "code",
   "execution_count": 3,
   "metadata": {
    "colab": {
     "base_uri": "https://localhost:8080/"
    },
    "id": "LErcWwAirsn3",
    "outputId": "cd2ded46-8415-4639-df3e-087f1a48c6e2"
   },
   "outputs": [
    {
     "name": "stdout",
     "output_type": "stream",
     "text": [
      "['i', 'me', 'my', 'myself', 'we', 'our', 'ours', 'ourselves', 'you', \"you're\", \"you've\", \"you'll\", \"you'd\", 'your', 'yours', 'yourself', 'yourselves', 'he', 'him', 'his', 'himself', 'she', \"she's\", 'her', 'hers', 'herself', 'it', \"it's\", 'its', 'itself', 'they', 'them', 'their', 'theirs', 'themselves', 'what', 'which', 'who', 'whom', 'this', 'that', \"that'll\", 'these', 'those', 'am', 'is', 'are', 'was', 'were', 'be', 'been', 'being', 'have', 'has', 'had', 'having', 'do', 'does', 'did', 'doing', 'a', 'an', 'the', 'and', 'but', 'if', 'or', 'because', 'as', 'until', 'while', 'of', 'at', 'by', 'for', 'with', 'about', 'against', 'between', 'into', 'through', 'during', 'before', 'after', 'above', 'below', 'to', 'from', 'up', 'down', 'in', 'out', 'on', 'off', 'over', 'under', 'again', 'further', 'then', 'once', 'here', 'there', 'when', 'where', 'why', 'how', 'all', 'any', 'both', 'each', 'few', 'more', 'most', 'other', 'some', 'such', 'no', 'nor', 'not', 'only', 'own', 'same', 'so', 'than', 'too', 'very', 's', 't', 'can', 'will', 'just', 'don', \"don't\", 'should', \"should've\", 'now', 'd', 'll', 'm', 'o', 're', 've', 'y', 'ain', 'aren', \"aren't\", 'couldn', \"couldn't\", 'didn', \"didn't\", 'doesn', \"doesn't\", 'hadn', \"hadn't\", 'hasn', \"hasn't\", 'haven', \"haven't\", 'isn', \"isn't\", 'ma', 'mightn', \"mightn't\", 'mustn', \"mustn't\", 'needn', \"needn't\", 'shan', \"shan't\", 'shouldn', \"shouldn't\", 'wasn', \"wasn't\", 'weren', \"weren't\", 'won', \"won't\", 'wouldn', \"wouldn't\"]\n"
     ]
    }
   ],
   "source": [
    "print(stopwords.words('english'))"
   ]
  },
  {
   "cell_type": "markdown",
   "metadata": {
    "id": "bYRun9t_ooUD"
   },
   "source": [
    "The Dataset"
   ]
  },
  {
   "cell_type": "code",
   "execution_count": 4,
   "metadata": {
    "id": "xtONgNfNrw8b"
   },
   "outputs": [],
   "source": [
    "df = pd.read_csv('sentiment_analysis.csv', encoding = \"ISO-8859-1\")"
   ]
  },
  {
   "cell_type": "code",
   "execution_count": 5,
   "metadata": {
    "colab": {
     "base_uri": "https://localhost:8080/"
    },
    "id": "AUyPtXD0r-bg",
    "outputId": "0f769941-631c-4739-cf06-57a5a6d98261"
   },
   "outputs": [
    {
     "data": {
      "text/plain": [
       "(1599999, 6)"
      ]
     },
     "execution_count": 5,
     "metadata": {},
     "output_type": "execute_result"
    }
   ],
   "source": [
    "df.shape"
   ]
  },
  {
   "cell_type": "code",
   "execution_count": 6,
   "metadata": {
    "colab": {
     "base_uri": "https://localhost:8080/",
     "height": 304
    },
    "id": "j7vbghDmsCoa",
    "outputId": "4eae981b-23df-4dab-a521-ef764aa0ffc8"
   },
   "outputs": [
    {
     "data": {
      "text/html": [
       "<div>\n",
       "<style scoped>\n",
       "    .dataframe tbody tr th:only-of-type {\n",
       "        vertical-align: middle;\n",
       "    }\n",
       "\n",
       "    .dataframe tbody tr th {\n",
       "        vertical-align: top;\n",
       "    }\n",
       "\n",
       "    .dataframe thead th {\n",
       "        text-align: right;\n",
       "    }\n",
       "</style>\n",
       "<table border=\"1\" class=\"dataframe\">\n",
       "  <thead>\n",
       "    <tr style=\"text-align: right;\">\n",
       "      <th></th>\n",
       "      <th>0</th>\n",
       "      <th>1467810369</th>\n",
       "      <th>Mon Apr 06 22:19:45 PDT 2009</th>\n",
       "      <th>NO_QUERY</th>\n",
       "      <th>_TheSpecialOne_</th>\n",
       "      <th>@switchfoot http://twitpic.com/2y1zl - Awww, that's a bummer.  You shoulda got David Carr of Third Day to do it. ;D</th>\n",
       "    </tr>\n",
       "  </thead>\n",
       "  <tbody>\n",
       "    <tr>\n",
       "      <th>0</th>\n",
       "      <td>0</td>\n",
       "      <td>1467810672</td>\n",
       "      <td>Mon Apr 06 22:19:49 PDT 2009</td>\n",
       "      <td>NO_QUERY</td>\n",
       "      <td>scotthamilton</td>\n",
       "      <td>is upset that he can't update his Facebook by ...</td>\n",
       "    </tr>\n",
       "    <tr>\n",
       "      <th>1</th>\n",
       "      <td>0</td>\n",
       "      <td>1467810917</td>\n",
       "      <td>Mon Apr 06 22:19:53 PDT 2009</td>\n",
       "      <td>NO_QUERY</td>\n",
       "      <td>mattycus</td>\n",
       "      <td>@Kenichan I dived many times for the ball. Man...</td>\n",
       "    </tr>\n",
       "    <tr>\n",
       "      <th>2</th>\n",
       "      <td>0</td>\n",
       "      <td>1467811184</td>\n",
       "      <td>Mon Apr 06 22:19:57 PDT 2009</td>\n",
       "      <td>NO_QUERY</td>\n",
       "      <td>ElleCTF</td>\n",
       "      <td>my whole body feels itchy and like its on fire</td>\n",
       "    </tr>\n",
       "    <tr>\n",
       "      <th>3</th>\n",
       "      <td>0</td>\n",
       "      <td>1467811193</td>\n",
       "      <td>Mon Apr 06 22:19:57 PDT 2009</td>\n",
       "      <td>NO_QUERY</td>\n",
       "      <td>Karoli</td>\n",
       "      <td>@nationwideclass no, it's not behaving at all....</td>\n",
       "    </tr>\n",
       "    <tr>\n",
       "      <th>4</th>\n",
       "      <td>0</td>\n",
       "      <td>1467811372</td>\n",
       "      <td>Mon Apr 06 22:20:00 PDT 2009</td>\n",
       "      <td>NO_QUERY</td>\n",
       "      <td>joy_wolf</td>\n",
       "      <td>@Kwesidei not the whole crew</td>\n",
       "    </tr>\n",
       "  </tbody>\n",
       "</table>\n",
       "</div>"
      ],
      "text/plain": [
       "   0  1467810369  Mon Apr 06 22:19:45 PDT 2009  NO_QUERY _TheSpecialOne_  \\\n",
       "0  0  1467810672  Mon Apr 06 22:19:49 PDT 2009  NO_QUERY   scotthamilton   \n",
       "1  0  1467810917  Mon Apr 06 22:19:53 PDT 2009  NO_QUERY        mattycus   \n",
       "2  0  1467811184  Mon Apr 06 22:19:57 PDT 2009  NO_QUERY         ElleCTF   \n",
       "3  0  1467811193  Mon Apr 06 22:19:57 PDT 2009  NO_QUERY          Karoli   \n",
       "4  0  1467811372  Mon Apr 06 22:20:00 PDT 2009  NO_QUERY        joy_wolf   \n",
       "\n",
       "  @switchfoot http://twitpic.com/2y1zl - Awww, that's a bummer.  You shoulda got David Carr of Third Day to do it. ;D  \n",
       "0  is upset that he can't update his Facebook by ...                                                                   \n",
       "1  @Kenichan I dived many times for the ball. Man...                                                                   \n",
       "2    my whole body feels itchy and like its on fire                                                                    \n",
       "3  @nationwideclass no, it's not behaving at all....                                                                   \n",
       "4                      @Kwesidei not the whole crew                                                                    "
      ]
     },
     "execution_count": 6,
     "metadata": {},
     "output_type": "execute_result"
    }
   ],
   "source": [
    "df.head()"
   ]
  },
  {
   "cell_type": "code",
   "execution_count": 7,
   "metadata": {
    "id": "574geDOf1QFY"
   },
   "outputs": [],
   "source": [
    "df.columns = ['label','ID','Date','Query','Username','Tweet']"
   ]
  },
  {
   "cell_type": "code",
   "execution_count": 8,
   "metadata": {
    "colab": {
     "base_uri": "https://localhost:8080/",
     "height": 203
    },
    "id": "ZXVIhukT1kLS",
    "outputId": "9c9f2d51-d6f5-48d5-c255-131db1932613"
   },
   "outputs": [
    {
     "data": {
      "text/html": [
       "<div>\n",
       "<style scoped>\n",
       "    .dataframe tbody tr th:only-of-type {\n",
       "        vertical-align: middle;\n",
       "    }\n",
       "\n",
       "    .dataframe tbody tr th {\n",
       "        vertical-align: top;\n",
       "    }\n",
       "\n",
       "    .dataframe thead th {\n",
       "        text-align: right;\n",
       "    }\n",
       "</style>\n",
       "<table border=\"1\" class=\"dataframe\">\n",
       "  <thead>\n",
       "    <tr style=\"text-align: right;\">\n",
       "      <th></th>\n",
       "      <th>label</th>\n",
       "      <th>ID</th>\n",
       "      <th>Date</th>\n",
       "      <th>Query</th>\n",
       "      <th>Username</th>\n",
       "      <th>Tweet</th>\n",
       "    </tr>\n",
       "  </thead>\n",
       "  <tbody>\n",
       "    <tr>\n",
       "      <th>0</th>\n",
       "      <td>0</td>\n",
       "      <td>1467810672</td>\n",
       "      <td>Mon Apr 06 22:19:49 PDT 2009</td>\n",
       "      <td>NO_QUERY</td>\n",
       "      <td>scotthamilton</td>\n",
       "      <td>is upset that he can't update his Facebook by ...</td>\n",
       "    </tr>\n",
       "    <tr>\n",
       "      <th>1</th>\n",
       "      <td>0</td>\n",
       "      <td>1467810917</td>\n",
       "      <td>Mon Apr 06 22:19:53 PDT 2009</td>\n",
       "      <td>NO_QUERY</td>\n",
       "      <td>mattycus</td>\n",
       "      <td>@Kenichan I dived many times for the ball. Man...</td>\n",
       "    </tr>\n",
       "    <tr>\n",
       "      <th>2</th>\n",
       "      <td>0</td>\n",
       "      <td>1467811184</td>\n",
       "      <td>Mon Apr 06 22:19:57 PDT 2009</td>\n",
       "      <td>NO_QUERY</td>\n",
       "      <td>ElleCTF</td>\n",
       "      <td>my whole body feels itchy and like its on fire</td>\n",
       "    </tr>\n",
       "    <tr>\n",
       "      <th>3</th>\n",
       "      <td>0</td>\n",
       "      <td>1467811193</td>\n",
       "      <td>Mon Apr 06 22:19:57 PDT 2009</td>\n",
       "      <td>NO_QUERY</td>\n",
       "      <td>Karoli</td>\n",
       "      <td>@nationwideclass no, it's not behaving at all....</td>\n",
       "    </tr>\n",
       "    <tr>\n",
       "      <th>4</th>\n",
       "      <td>0</td>\n",
       "      <td>1467811372</td>\n",
       "      <td>Mon Apr 06 22:20:00 PDT 2009</td>\n",
       "      <td>NO_QUERY</td>\n",
       "      <td>joy_wolf</td>\n",
       "      <td>@Kwesidei not the whole crew</td>\n",
       "    </tr>\n",
       "  </tbody>\n",
       "</table>\n",
       "</div>"
      ],
      "text/plain": [
       "   label          ID                          Date     Query       Username  \\\n",
       "0      0  1467810672  Mon Apr 06 22:19:49 PDT 2009  NO_QUERY  scotthamilton   \n",
       "1      0  1467810917  Mon Apr 06 22:19:53 PDT 2009  NO_QUERY       mattycus   \n",
       "2      0  1467811184  Mon Apr 06 22:19:57 PDT 2009  NO_QUERY        ElleCTF   \n",
       "3      0  1467811193  Mon Apr 06 22:19:57 PDT 2009  NO_QUERY         Karoli   \n",
       "4      0  1467811372  Mon Apr 06 22:20:00 PDT 2009  NO_QUERY       joy_wolf   \n",
       "\n",
       "                                               Tweet  \n",
       "0  is upset that he can't update his Facebook by ...  \n",
       "1  @Kenichan I dived many times for the ball. Man...  \n",
       "2    my whole body feels itchy and like its on fire   \n",
       "3  @nationwideclass no, it's not behaving at all....  \n",
       "4                      @Kwesidei not the whole crew   "
      ]
     },
     "execution_count": 8,
     "metadata": {},
     "output_type": "execute_result"
    }
   ],
   "source": [
    "df.head()"
   ]
  },
  {
   "cell_type": "code",
   "execution_count": 9,
   "metadata": {
    "colab": {
     "base_uri": "https://localhost:8080/"
    },
    "id": "q7LV9FruIman",
    "outputId": "d9110f67-ef7d-4e0b-b200-e4104c7a1b6d"
   },
   "outputs": [
    {
     "data": {
      "text/plain": [
       "Index(['label', 'ID', 'Date', 'Query', 'Username', 'Tweet'], dtype='object')"
      ]
     },
     "execution_count": 9,
     "metadata": {},
     "output_type": "execute_result"
    }
   ],
   "source": [
    "df.columns"
   ]
  },
  {
   "cell_type": "code",
   "execution_count": 10,
   "metadata": {
    "colab": {
     "base_uri": "https://localhost:8080/"
    },
    "id": "bf63CWW9Iu0w",
    "outputId": "91faa516-99b4-4595-c818-97aa117129ea"
   },
   "outputs": [
    {
     "name": "stdout",
     "output_type": "stream",
     "text": [
      "[0 4]\n"
     ]
    }
   ],
   "source": [
    "#n = len(pd.unique(df['label']))\n",
    "#df[\"label\"].replace({4: 1}, inplace=True)\n",
    "n = pd.unique(df['label'])\n",
    "print(n)"
   ]
  },
  {
   "cell_type": "code",
   "execution_count": 11,
   "metadata": {
    "id": "W1rzLGjIl5MJ"
   },
   "outputs": [],
   "source": [
    "from sklearn.preprocessing import LabelEncoder\n",
    "le = LabelEncoder()\n",
    "df['label'] = le.fit_transform(df['label'])"
   ]
  },
  {
   "cell_type": "code",
   "execution_count": 12,
   "metadata": {
    "colab": {
     "base_uri": "https://localhost:8080/"
    },
    "id": "k63QhVOzsEAF",
    "outputId": "b18093f1-9aa4-4527-da63-8af44da52ae8"
   },
   "outputs": [
    {
     "data": {
      "text/plain": [
       "label       0\n",
       "ID          0\n",
       "Date        0\n",
       "Query       0\n",
       "Username    0\n",
       "Tweet       0\n",
       "dtype: int64"
      ]
     },
     "execution_count": 12,
     "metadata": {},
     "output_type": "execute_result"
    }
   ],
   "source": [
    "df.isnull().sum()"
   ]
  },
  {
   "cell_type": "code",
   "execution_count": 13,
   "metadata": {
    "id": "4KJsPe5F0mAR"
   },
   "outputs": [],
   "source": [
    "#replace null values with empty string\n",
    "df = df.fillna('')"
   ]
  },
  {
   "cell_type": "code",
   "execution_count": 14,
   "metadata": {
    "id": "K_I8IL1hxnHK"
   },
   "outputs": [],
   "source": [
    "from sklearn.utils import shuffle\n",
    "df = shuffle(df,random_state=42)\n",
    "df = df[1:800000]"
   ]
  },
  {
   "cell_type": "code",
   "execution_count": 15,
   "metadata": {
    "colab": {
     "base_uri": "https://localhost:8080/"
    },
    "id": "KxUqnb4Zx3Kq",
    "outputId": "30944a15-3346-4064-92bb-64a81f6c2dbc"
   },
   "outputs": [
    {
     "data": {
      "text/plain": [
       "0    400210\n",
       "1    399789\n",
       "Name: label, dtype: int64"
      ]
     },
     "execution_count": 15,
     "metadata": {},
     "output_type": "execute_result"
    }
   ],
   "source": [
    "df['label'].value_counts()"
   ]
  },
  {
   "cell_type": "code",
   "execution_count": 16,
   "metadata": {
    "id": "dPMV0eMe0x9K"
   },
   "outputs": [],
   "source": [
    "df['content'] = df['Username']+ ' ' + df['Tweet']"
   ]
  },
  {
   "cell_type": "code",
   "execution_count": 17,
   "metadata": {
    "colab": {
     "base_uri": "https://localhost:8080/"
    },
    "id": "zzDb2fgW10p-",
    "outputId": "20fb0e19-28a2-4449-daeb-e6672762906d"
   },
   "outputs": [
    {
     "name": "stdout",
     "output_type": "stream",
     "text": [
      "750       Young_J I'm off too bed. I gotta wake up hella...\n",
      "766711    dougnawoschik I havent been able to listen to ...\n",
      "285055    thireven now remembers why solving a relativel...\n",
      "705995              taracollins086 Ate too much, feel sick \n",
      "379611    Portablemonkey Tried to purchase a parked doma...\n",
      "                                ...                        \n",
      "953018       HelloBayley Headed to bed....Good night all!  \n",
      "993770    Gingerchaouat @nerekaulitz haha in november ! ...\n",
      "937940    soumen08 @sanjay_ankur have libcurl, its mandr...\n",
      "208691               mcraddictal @MCRsavedMilife not by me \n",
      "977400    louiseydeesy @ItsJoooosh haha probably, but i'...\n",
      "Name: content, Length: 799999, dtype: object\n"
     ]
    }
   ],
   "source": [
    "print(df['content'])"
   ]
  },
  {
   "cell_type": "code",
   "execution_count": 18,
   "metadata": {
    "id": "SMbb0ho213yQ"
   },
   "outputs": [],
   "source": [
    "X = df['content']\n",
    "Y = df['label']"
   ]
  },
  {
   "cell_type": "code",
   "execution_count": 19,
   "metadata": {
    "colab": {
     "base_uri": "https://localhost:8080/"
    },
    "id": "eDv-CdLG2At5",
    "outputId": "6ee2fadc-8d5d-40b7-9963-b8b3cd53e259"
   },
   "outputs": [
    {
     "name": "stdout",
     "output_type": "stream",
     "text": [
      "750       Young_J I'm off too bed. I gotta wake up hella...\n",
      "766711    dougnawoschik I havent been able to listen to ...\n",
      "285055    thireven now remembers why solving a relativel...\n",
      "705995              taracollins086 Ate too much, feel sick \n",
      "379611    Portablemonkey Tried to purchase a parked doma...\n",
      "                                ...                        \n",
      "953018       HelloBayley Headed to bed....Good night all!  \n",
      "993770    Gingerchaouat @nerekaulitz haha in november ! ...\n",
      "937940    soumen08 @sanjay_ankur have libcurl, its mandr...\n",
      "208691               mcraddictal @MCRsavedMilife not by me \n",
      "977400    louiseydeesy @ItsJoooosh haha probably, but i'...\n",
      "Name: content, Length: 799999, dtype: object\n"
     ]
    }
   ],
   "source": [
    "print(X)"
   ]
  },
  {
   "cell_type": "code",
   "execution_count": 20,
   "metadata": {
    "colab": {
     "base_uri": "https://localhost:8080/"
    },
    "id": "E8eAzKmp2CLt",
    "outputId": "124f9aab-d1da-4b31-c0f6-891855da3876"
   },
   "outputs": [
    {
     "name": "stdout",
     "output_type": "stream",
     "text": [
      "750       0\n",
      "766711    0\n",
      "285055    0\n",
      "705995    0\n",
      "379611    0\n",
      "         ..\n",
      "953018    1\n",
      "993770    1\n",
      "937940    1\n",
      "208691    0\n",
      "977400    1\n",
      "Name: label, Length: 799999, dtype: int64\n"
     ]
    }
   ],
   "source": [
    "print(Y)"
   ]
  },
  {
   "cell_type": "markdown",
   "metadata": {
    "id": "urzuZvvDosxg"
   },
   "source": [
    "Stemming"
   ]
  },
  {
   "cell_type": "code",
   "execution_count": 21,
   "metadata": {
    "id": "Le50vw9Kz5qT"
   },
   "outputs": [],
   "source": [
    "port_stem = PorterStemmer()"
   ]
  },
  {
   "cell_type": "code",
   "execution_count": 22,
   "metadata": {
    "id": "gMo18AEUoxFW"
   },
   "outputs": [],
   "source": [
    "def stemming(content):\n",
    "  stemmed_content = re.sub('[^a-zA-Z]',' ', content)\n",
    "  stemmed_content = stemmed_content.lower()\n",
    "  stemmed_content = stemmed_content.split()\n",
    "  stemmed_content = [port_stem.stem(word) for word in stemmed_content if not word in stopwords.words('english')]\n",
    "  stemmed_content = ' '.join(stemmed_content)\n",
    "  return stemmed_content"
   ]
  },
  {
   "cell_type": "code",
   "execution_count": 23,
   "metadata": {
    "id": "pvglVNCSozT9"
   },
   "outputs": [],
   "source": [
    "df['content'] = df['content'].apply(stemming)"
   ]
  },
  {
   "cell_type": "code",
   "execution_count": 24,
   "metadata": {
    "colab": {
     "base_uri": "https://localhost:8080/"
    },
    "id": "ke6wahliNL0q",
    "outputId": "36790bd0-831e-430a-9a23-a25389d4cbac"
   },
   "outputs": [
    {
     "name": "stdout",
     "output_type": "stream",
     "text": [
      "750        young j bed gotta wake hella earli tomorrow morn\n",
      "766711     dougnawoschik havent abl listen yet speaker bust\n",
      "285055    thireven rememb solv rel big equat two unknown...\n",
      "705995                        taracollin ate much feel sick\n",
      "379611    portablemonkey tri purchas park domain godaddi...\n",
      "                                ...                        \n",
      "953018                      hellobayley head bed good night\n",
      "993770           gingerchaouat nerekaulitz haha novemb hope\n",
      "937940    soumen sanjay ankur libcurl mandriva packag do...\n",
      "208691                              mcraddict mcrsavedmilif\n",
      "977400    louiseydeesi itsjoooosh haha probabl much addi...\n",
      "Name: content, Length: 799999, dtype: object\n"
     ]
    }
   ],
   "source": [
    "print(df['content'])"
   ]
  },
  {
   "cell_type": "code",
   "execution_count": 25,
   "metadata": {
    "colab": {
     "base_uri": "https://localhost:8080/"
    },
    "id": "5zqbnSyFo47q",
    "outputId": "84c5c0c3-e347-49bf-e849-fe864877accd"
   },
   "outputs": [
    {
     "data": {
      "text/plain": [
       "TfidfVectorizer(max_features=600)"
      ]
     },
     "execution_count": 25,
     "metadata": {},
     "output_type": "execute_result"
    }
   ],
   "source": [
    "#converting textual data to numerical data\n",
    "vectorizer = TfidfVectorizer(max_features = 600)\n",
    "vectorizer.fit(X)"
   ]
  },
  {
   "cell_type": "code",
   "execution_count": 26,
   "metadata": {
    "colab": {
     "base_uri": "https://localhost:8080/"
    },
    "id": "ql0Sk4_Tt_L2",
    "outputId": "2a13db34-08ac-4ecf-b1ed-2659d1e57d23"
   },
   "outputs": [
    {
     "name": "stdout",
     "output_type": "stream",
     "text": [
      "  (0, 551)\t0.47191504735974643\n",
      "  (0, 520)\t0.3512316970739986\n",
      "  (0, 337)\t0.3498439676370239\n",
      "  (0, 206)\t0.44705742621225847\n",
      "  (0, 139)\t0.430331741675855\n",
      "  (0, 44)\t0.3827478688753846\n",
      "  (1, 598)\t0.5425851809546581\n",
      "  (1, 294)\t0.5567735378512322\n",
      "  (1, 0)\t0.6289710239407088\n",
      "  (2, 536)\t0.4281870883282029\n",
      "  (2, 524)\t0.44699013564604173\n",
      "  (2, 416)\t0.4648716783653315\n",
      "  (2, 373)\t0.4716931807806927\n",
      "  (2, 48)\t0.4222031523839459\n",
      "  (3, 447)\t0.5009653329589469\n",
      "  (3, 342)\t0.42571430087214296\n",
      "  (3, 168)\t0.398105817024456\n",
      "  (3, 30)\t0.639775607269896\n",
      "  (4, 528)\t0.43376319793497703\n",
      "  (4, 375)\t0.6032394639237997\n",
      "  (4, 289)\t0.3421852504577767\n",
      "  (4, 271)\t0.5752050866006813\n",
      "  (5, 310)\t0.6474868020235318\n",
      "  (5, 140)\t0.5886874144387112\n",
      "  (5, 95)\t0.483950378950988\n",
      "  :\t:\n",
      "  (799991, 318)\t0.5564667663856332\n",
      "  (799991, 131)\t0.4244252219073529\n",
      "  (799991, 4)\t0.5284355794989158\n",
      "  (799992, 520)\t0.7252578632229483\n",
      "  (799992, 356)\t0.6884773284816889\n",
      "  (799993, 576)\t0.2777771903683744\n",
      "  (799993, 409)\t0.40440153882155916\n",
      "  (799993, 291)\t0.4981444873405276\n",
      "  (799993, 193)\t0.26031989273504424\n",
      "  (799993, 74)\t0.3891376075525621\n",
      "  (799993, 45)\t0.4449319746566041\n",
      "  (799993, 39)\t0.30658165536265897\n",
      "  (799994, 356)\t0.46894414885622066\n",
      "  (799994, 225)\t0.5775253553677656\n",
      "  (799994, 203)\t0.39593447271398524\n",
      "  (799994, 44)\t0.5383230837309034\n",
      "  (799995, 242)\t0.6783911152916869\n",
      "  (799995, 215)\t0.7347009559632416\n",
      "  (799996, 590)\t0.5165361109385044\n",
      "  (799996, 132)\t0.612963377130712\n",
      "  (799996, 124)\t0.597884892260239\n",
      "  (799998, 583)\t0.5656587359634426\n",
      "  (799998, 401)\t0.5655259749812683\n",
      "  (799998, 342)\t0.4164406175794549\n",
      "  (799998, 215)\t0.4321895163927146\n"
     ]
    }
   ],
   "source": [
    "X = vectorizer.transform(X)\n",
    "\n",
    "print(X)"
   ]
  },
  {
   "cell_type": "code",
   "execution_count": 27,
   "metadata": {
    "id": "ewBMAp6duKC7"
   },
   "outputs": [],
   "source": [
    "x_train, x_test, y_train, y_test = train_test_split(X, Y, test_size=0.25, stratify=Y, random_state=1)"
   ]
  },
  {
   "cell_type": "code",
   "execution_count": 28,
   "metadata": {
    "colab": {
     "base_uri": "https://localhost:8080/"
    },
    "id": "1o1jU1N2uXg0",
    "outputId": "6fecb9d3-08d2-4577-946f-b6ce042d4813"
   },
   "outputs": [
    {
     "name": "stdout",
     "output_type": "stream",
     "text": [
      "(799999, 600) (599999, 600) (200000, 600)\n"
     ]
    }
   ],
   "source": [
    "print(X.shape, x_train.shape, x_test.shape)"
   ]
  },
  {
   "cell_type": "markdown",
   "metadata": {
    "id": "H5sRI-H5uiBW"
   },
   "source": [
    "**Decision Tree**"
   ]
  },
  {
   "cell_type": "code",
   "execution_count": 29,
   "metadata": {
    "id": "5W5P9JjEuZ6t"
   },
   "outputs": [],
   "source": [
    "from sklearn.tree import DecisionTreeClassifier"
   ]
  },
  {
   "cell_type": "code",
   "execution_count": 30,
   "metadata": {
    "id": "vQ2J6DHNuhR6"
   },
   "outputs": [],
   "source": [
    "model1 = DecisionTreeClassifier(criterion='entropy', random_state=0)"
   ]
  },
  {
   "cell_type": "code",
   "execution_count": 31,
   "metadata": {
    "colab": {
     "base_uri": "https://localhost:8080/"
    },
    "id": "o6aClvxVuqZ-",
    "outputId": "cc36a6e2-e0b1-4711-dd51-a4fba18ecb4a"
   },
   "outputs": [
    {
     "data": {
      "text/plain": [
       "DecisionTreeClassifier(criterion='entropy', random_state=0)"
      ]
     },
     "execution_count": 31,
     "metadata": {},
     "output_type": "execute_result"
    }
   ],
   "source": [
    "model1.fit(x_train, y_train)"
   ]
  },
  {
   "cell_type": "code",
   "execution_count": 32,
   "metadata": {
    "colab": {
     "base_uri": "https://localhost:8080/"
    },
    "id": "Fs-_hIz9uv6o",
    "outputId": "1e64399a-33c1-4601-9f12-cbe122c674ac"
   },
   "outputs": [
    {
     "name": "stdout",
     "output_type": "stream",
     "text": [
      "0.9368382280637134\n"
     ]
    }
   ],
   "source": [
    "x_train_predict = model1.predict(x_train)\n",
    "training_data_accuracy = accuracy_score(x_train_predict, y_train)\n",
    "print(training_data_accuracy)"
   ]
  },
  {
   "cell_type": "code",
   "execution_count": 33,
   "metadata": {
    "colab": {
     "base_uri": "https://localhost:8080/"
    },
    "id": "4hxO15hEu4dn",
    "outputId": "e69eb8b4-5145-4c47-cb54-b916974e7bed"
   },
   "outputs": [
    {
     "name": "stdout",
     "output_type": "stream",
     "text": [
      "0.67809\n"
     ]
    }
   ],
   "source": [
    "x_test_predict = model1.predict(x_test)\n",
    "test_data_accuracy = accuracy_score(x_test_predict, y_test)\n",
    "print(test_data_accuracy)"
   ]
  },
  {
   "cell_type": "code",
   "execution_count": 34,
   "metadata": {
    "colab": {
     "base_uri": "https://localhost:8080/"
    },
    "id": "G2qaaNiAQeiN",
    "outputId": "c1385916-a18d-4447-f086-097da15dd872"
   },
   "outputs": [
    {
     "name": "stdout",
     "output_type": "stream",
     "text": [
      "Training data precision score =  0.9224306149107387\n",
      "Training data recall score =  0.9538190113459756\n",
      "Training data confusion matrix =  [[276107  24050]\n",
      " [ 13847 285995]]\n"
     ]
    }
   ],
   "source": [
    "training_precision = precision_score(y_train, x_train_predict)\n",
    "print('Training data precision score = ', training_precision)\n",
    "training_recall = recall_score(y_train, x_train_predict)\n",
    "print('Training data recall score = ', training_recall)\n",
    "training_matrix = confusion_matrix(y_train, x_train_predict)\n",
    "print('Training data confusion matrix = ', training_matrix)"
   ]
  },
  {
   "cell_type": "code",
   "execution_count": 35,
   "metadata": {
    "colab": {
     "base_uri": "https://localhost:8080/"
    },
    "id": "eDEq60ovRZ6r",
    "outputId": "e43adc72-0700-42ed-9597-abd547349151"
   },
   "outputs": [
    {
     "name": "stdout",
     "output_type": "stream",
     "text": [
      "Testing data precision score =  0.6711056799484253\n",
      "Testing data recall score =  0.6978298498204049\n",
      "Testing data confusion matrix =  [[65872 34181]\n",
      " [30201 69746]]\n"
     ]
    }
   ],
   "source": [
    "testing_precision = precision_score(y_test, x_test_predict)\n",
    "print('Testing data precision score = ', testing_precision)\n",
    "testing_recall = recall_score(y_test, x_test_predict)\n",
    "print('Testing data recall score = ', testing_recall)\n",
    "testing_matrix = confusion_matrix(y_test, x_test_predict)\n",
    "print('Testing data confusion matrix = ', testing_matrix)"
   ]
  },
  {
   "cell_type": "markdown",
   "metadata": {
    "id": "Ap7GkE7DR7K7"
   },
   "source": [
    "**Random Forest**"
   ]
  },
  {
   "cell_type": "code",
   "execution_count": null,
   "metadata": {
    "id": "MfcVTR72ZQP6"
   },
   "outputs": [],
   "source": [
    "from sklearn.ensemble import RandomForestClassifier\n",
    "model2 = RandomForestClassifier(criterion='entropy', random_state=0)\n",
    "model2.fit(x_train, y_train)\n",
    "\n",
    "x_test_predict = model2.predict(x_test)\n",
    "test_data_accuracy = accuracy_score(x_test_predict, y_test)\n",
    "print(test_data_accuracy)"
   ]
  },
  {
   "cell_type": "code",
   "execution_count": null,
   "metadata": {
    "colab": {
     "base_uri": "https://localhost:8080/"
    },
    "id": "daA5fZNfbJXM",
    "outputId": "55297a63-04a8-4587-cf84-45f9a2b7d07d"
   },
   "outputs": [],
   "source": [
    "x_train_predict = model2.predict(x_train)\n",
    "training_data_accuracy = accuracy_score(x_train_predict, y_train)\n",
    "print(training_data_accuracy)"
   ]
  },
  {
   "cell_type": "code",
   "execution_count": null,
   "metadata": {
    "colab": {
     "base_uri": "https://localhost:8080/"
    },
    "id": "qiHBItuYkNpN",
    "outputId": "d15bb1ab-0538-4da3-abc3-d9d3894caeed"
   },
   "outputs": [],
   "source": [
    "training_precision = precision_score(y_train, x_train_predict)\n",
    "print('Training data precision score = ', training_precision)\n",
    "training_recall = recall_score(y_train, x_train_predict)\n",
    "print('Training data recall score = ', training_recall)\n",
    "training_matrix = confusion_matrix(y_train, x_train_predict)\n",
    "print('Training data confusion matrix = ', training_matrix)"
   ]
  },
  {
   "cell_type": "code",
   "execution_count": null,
   "metadata": {
    "colab": {
     "base_uri": "https://localhost:8080/"
    },
    "id": "3rcMyOePkhLa",
    "outputId": "7206db42-130d-4e84-c7dd-ce5bca46dc20"
   },
   "outputs": [],
   "source": [
    "testing_precision = precision_score(y_test, x_test_predict)\n",
    "print('Testing data precision score = ', testing_precision)\n",
    "testing_recall = recall_score(y_test, x_test_predict)\n",
    "print('Testing data recall score = ', testing_recall)\n",
    "testing_matrix = confusion_matrix(y_test, x_test_predict)\n",
    "print('Testing data confusion matrix = ', testing_matrix)"
   ]
  },
  {
   "cell_type": "code",
   "execution_count": null,
   "metadata": {
    "id": "aKMu4Gkjfgip"
   },
   "outputs": [],
   "source": []
  },
  {
   "cell_type": "markdown",
   "metadata": {
    "id": "QSQkuw7bR-li"
   },
   "source": [
    "**Gaussian Naive Bayes**\n"
   ]
  },
  {
   "cell_type": "code",
   "execution_count": null,
   "metadata": {
    "id": "jhs16qWJphkE"
   },
   "outputs": [],
   "source": [
    "from sklearn.naive_bayes import GaussianNB\n"
   ]
  },
  {
   "cell_type": "code",
   "execution_count": null,
   "metadata": {
    "id": "-x-UZZiuC5lH"
   },
   "outputs": [],
   "source": [
    "model3 = GaussianNB()"
   ]
  },
  {
   "cell_type": "code",
   "execution_count": null,
   "metadata": {
    "colab": {
     "base_uri": "https://localhost:8080/"
    },
    "id": "EBOF6gegR0Xr",
    "outputId": "02a1b501-1a00-4b61-e0a8-9be4f93eacf0"
   },
   "outputs": [],
   "source": [
    "x_train_nb = x_train.toarray()\n",
    "model3.fit(x_train_nb,y_train)"
   ]
  },
  {
   "cell_type": "code",
   "execution_count": null,
   "metadata": {
    "colab": {
     "base_uri": "https://localhost:8080/"
    },
    "id": "f4_g0eaXb9Xu",
    "outputId": "2660e26f-bf1b-4c9a-b6a4-dc5029348381"
   },
   "outputs": [],
   "source": [
    "x_train_predict = model3.predict(x_train_nb)\n",
    "training_data_accuracy = accuracy_score(x_train_predict, y_train)\n",
    "print(training_data_accuracy)"
   ]
  },
  {
   "cell_type": "code",
   "execution_count": null,
   "metadata": {
    "colab": {
     "base_uri": "https://localhost:8080/"
    },
    "id": "XXUXjLBOeq-c",
    "outputId": "cde4b046-4f09-4be0-c922-aef64734c5ec"
   },
   "outputs": [],
   "source": [
    "x_test_nb = x_test.toarray()\n",
    "x_test_predict = model3.predict(x_test_nb)\n",
    "test_data_accuracy = accuracy_score(x_test_predict, y_test)\n",
    "print(test_data_accuracy)"
   ]
  },
  {
   "cell_type": "code",
   "execution_count": null,
   "metadata": {
    "colab": {
     "base_uri": "https://localhost:8080/"
    },
    "id": "YwCpE14kfOIh",
    "outputId": "72be05b3-94e5-46cb-b986-48e51aee7437"
   },
   "outputs": [],
   "source": [
    "training_precision = precision_score(y_train, x_train_predict)\n",
    "print('Training data precision score = ', training_precision)\n",
    "training_recall = recall_score(y_train, x_train_predict)\n",
    "print('Training data recall score = ', training_recall)\n",
    "training_matrix = confusion_matrix(y_train, x_train_predict)\n",
    "print('Training data confusion matrix = ', training_matrix)"
   ]
  },
  {
   "cell_type": "code",
   "execution_count": null,
   "metadata": {
    "colab": {
     "base_uri": "https://localhost:8080/"
    },
    "id": "OulLR0Crfrjt",
    "outputId": "51a3bac7-5795-4166-a638-015ef222b6b0"
   },
   "outputs": [],
   "source": [
    "testing_precision = precision_score(y_test, x_test_predict)\n",
    "print('Testing data precision score = ', testing_precision)\n",
    "testing_recall = recall_score(y_test, x_test_predict)\n",
    "print('Testing data recall score = ', testing_recall)\n",
    "testing_matrix = confusion_matrix(y_test, x_test_predict)\n",
    "print('Testing data confusion matrix = ', testing_matrix)"
   ]
  },
  {
   "cell_type": "markdown",
   "metadata": {
    "id": "jmvJExMHgBvb"
   },
   "source": [
    "**Multinomial Naive Bayes**"
   ]
  },
  {
   "cell_type": "code",
   "execution_count": null,
   "metadata": {
    "id": "Dv_pDEl2gToE"
   },
   "outputs": [],
   "source": [
    "from sklearn.naive_bayes import MultinomialNB"
   ]
  },
  {
   "cell_type": "code",
   "execution_count": null,
   "metadata": {
    "id": "gJuFEMEThH-8"
   },
   "outputs": [],
   "source": [
    "model4 = MultinomialNB()"
   ]
  },
  {
   "cell_type": "code",
   "execution_count": null,
   "metadata": {
    "colab": {
     "base_uri": "https://localhost:8080/"
    },
    "id": "KvOkRob-hYVx",
    "outputId": "81aebdd8-7c7d-4c82-f6c1-eb9e8846b782"
   },
   "outputs": [],
   "source": [
    "x_train_nb = x_train.toarray()\n",
    "model4.fit(x_train_nb,y_train)"
   ]
  },
  {
   "cell_type": "code",
   "execution_count": null,
   "metadata": {
    "colab": {
     "base_uri": "https://localhost:8080/"
    },
    "id": "TwxjY652iATe",
    "outputId": "a23c7bf2-8700-488a-8906-80e54de4466c"
   },
   "outputs": [],
   "source": [
    "x_train_predict = model4.predict(x_train_nb)\n",
    "training_data_accuracy = accuracy_score(x_train_predict, y_train)\n",
    "print(training_data_accuracy)"
   ]
  },
  {
   "cell_type": "code",
   "execution_count": null,
   "metadata": {
    "colab": {
     "base_uri": "https://localhost:8080/"
    },
    "id": "kqWAxu4XiMPU",
    "outputId": "e39247d1-de19-4ce1-a3f8-de8396b19ee3"
   },
   "outputs": [],
   "source": [
    "x_test_nb = x_test.toarray()\n",
    "x_test_predict = model4.predict(x_test_nb)\n",
    "test_data_accuracy = accuracy_score(x_test_predict, y_test)\n",
    "print(test_data_accuracy)"
   ]
  },
  {
   "cell_type": "code",
   "execution_count": null,
   "metadata": {
    "colab": {
     "base_uri": "https://localhost:8080/"
    },
    "id": "fhXtbt1GiVBE",
    "outputId": "85a5a1f1-d4e7-44a6-e37c-0954c0f99a7b"
   },
   "outputs": [],
   "source": [
    "training_precision = precision_score(y_train, x_train_predict)\n",
    "print('Training data precision score = ', training_precision)\n",
    "training_recall = recall_score(y_train, x_train_predict)\n",
    "print('Training data recall score = ', training_recall)\n",
    "training_matrix = confusion_matrix(y_train, x_train_predict)\n",
    "print('Training data confusion matrix = ', training_matrix)"
   ]
  },
  {
   "cell_type": "code",
   "execution_count": null,
   "metadata": {
    "colab": {
     "base_uri": "https://localhost:8080/"
    },
    "id": "y4Muqk4oicWd",
    "outputId": "521491c6-14ce-42f9-83ca-7890ae83ea01"
   },
   "outputs": [],
   "source": [
    "testing_precision = precision_score(y_test, x_test_predict)\n",
    "print('Testing data precision score = ', testing_precision)\n",
    "testing_recall = recall_score(y_test, x_test_predict)\n",
    "print('Testing data recall score = ', testing_recall)\n",
    "testing_matrix = confusion_matrix(y_test, x_test_predict)\n",
    "print('Testing data confusion matrix = ', testing_matrix)"
   ]
  },
  {
   "cell_type": "markdown",
   "metadata": {
    "id": "K4Jb5UmsSBVq"
   },
   "source": [
    "**Support Vector Machine**"
   ]
  },
  {
   "cell_type": "code",
   "execution_count": 37,
   "metadata": {
    "colab": {
     "base_uri": "https://localhost:8080/"
    },
    "id": "5zup3_O38LoI",
    "outputId": "8f15b4f9-c397-4ff0-ceb9-2e273bdd1f23"
   },
   "outputs": [
    {
     "data": {
      "text/plain": [
       "LinearSVC(max_iter=15000, random_state=0)"
      ]
     },
     "execution_count": 37,
     "metadata": {},
     "output_type": "execute_result"
    }
   ],
   "source": [
    "from sklearn.svm import LinearSVC\n",
    "svm_model=LinearSVC(random_state= 0 ,max_iter=15000)\n",
    "svm_model.fit(x_train, y_train)"
   ]
  },
  {
   "cell_type": "code",
   "execution_count": 38,
   "metadata": {
    "id": "F2Okmk77JMeH"
   },
   "outputs": [],
   "source": [
    "predictionsTest = svm_model.predict(x_test)\n",
    "predictionsTrain = svm_model.predict(x_train)"
   ]
  },
  {
   "cell_type": "code",
   "execution_count": 39,
   "metadata": {
    "colab": {
     "base_uri": "https://localhost:8080/"
    },
    "id": "gVUEn7j89zPB",
    "outputId": "06bb9237-f2e9-4493-a8c1-12b306346bc8"
   },
   "outputs": [
    {
     "name": "stdout",
     "output_type": "stream",
     "text": [
      "0.72954\n",
      "0.7298145496909162\n"
     ]
    }
   ],
   "source": [
    "print(accuracy_score(y_test, predictionsTest))\n",
    "print(accuracy_score(y_train, predictionsTrain))"
   ]
  },
  {
   "cell_type": "code",
   "execution_count": 40,
   "metadata": {
    "colab": {
     "base_uri": "https://localhost:8080/"
    },
    "id": "aqc-hyw-V-q3",
    "outputId": "f2ab9907-7dcc-408c-affe-e60ab0698bb3"
   },
   "outputs": [
    {
     "name": "stdout",
     "output_type": "stream",
     "text": [
      "Training data precision score =  0.7127822940709362\n",
      "Training data recall score =  0.7693618639149953\n",
      "Training data confusion matrix =  [[207201  92956]\n",
      " [ 69155 230687]]\n"
     ]
    }
   ],
   "source": [
    "training_precision = precision_score(y_train, predictionsTrain)\n",
    "print('Training data precision score = ', training_precision)\n",
    "training_recall = recall_score(y_train, predictionsTrain)\n",
    "print('Training data recall score = ', training_recall)\n",
    "training_matrix = confusion_matrix(y_train, predictionsTrain)\n",
    "print('Training data confusion matrix = ', training_matrix)"
   ]
  },
  {
   "cell_type": "code",
   "execution_count": 41,
   "metadata": {
    "colab": {
     "base_uri": "https://localhost:8080/"
    },
    "id": "Khk2-ynUWGa8",
    "outputId": "c5b3a915-c656-4b45-acb3-6ff3c047fe21"
   },
   "outputs": [
    {
     "name": "stdout",
     "output_type": "stream",
     "text": [
      "Testing data precision score =  0.7121639753851848\n",
      "Testing data recall score =  0.7700081042952766\n",
      "Testing data confusion matrix =  [[68948 31105]\n",
      " [22987 76960]]\n"
     ]
    }
   ],
   "source": [
    "testing_precision = precision_score(y_test, predictionsTest)\n",
    "print('Testing data precision score = ', testing_precision)\n",
    "testing_recall = recall_score(y_test, predictionsTest)\n",
    "print('Testing data recall score = ', testing_recall)\n",
    "testing_matrix = confusion_matrix(y_test, predictionsTest)\n",
    "print('Testing data confusion matrix = ', testing_matrix)"
   ]
  },
  {
   "cell_type": "markdown",
   "metadata": {
    "id": "dvtGuD_xSEU3"
   },
   "source": [
    "**Neural Network**"
   ]
  },
  {
   "cell_type": "code",
   "execution_count": 42,
   "metadata": {
    "colab": {
     "base_uri": "https://localhost:8080/"
    },
    "id": "mRyovIP4Rrl0",
    "outputId": "fe1e3270-1b55-4b7d-81de-9b96afb3f97d"
   },
   "outputs": [
    {
     "data": {
      "text/plain": [
       "MLPClassifier(alpha=1e-05, hidden_layer_sizes=(30,), random_state=1)"
      ]
     },
     "execution_count": 42,
     "metadata": {},
     "output_type": "execute_result"
    }
   ],
   "source": [
    "from sklearn.neural_network import MLPClassifier\n",
    "clf = MLPClassifier(alpha=1e-5, hidden_layer_sizes=(30,), random_state=1)\n",
    "clf.fit(x_train, y_train)"
   ]
  },
  {
   "cell_type": "code",
   "execution_count": 43,
   "metadata": {
    "id": "-MBoJzWLwh0W"
   },
   "outputs": [],
   "source": [
    "predictionsTest = clf.predict(x_test)\n",
    "predictionsTrain = clf.predict(x_train)"
   ]
  },
  {
   "cell_type": "code",
   "execution_count": 44,
   "metadata": {
    "colab": {
     "base_uri": "https://localhost:8080/"
    },
    "id": "NmM-j-pzwkdm",
    "outputId": "35aedaa3-e091-41cb-924e-e83b0d4bab93"
   },
   "outputs": [
    {
     "name": "stdout",
     "output_type": "stream",
     "text": [
      "0.732135\n",
      "0.7631262718771198\n"
     ]
    }
   ],
   "source": [
    "print(accuracy_score(y_test, predictionsTest))\n",
    "print(accuracy_score(y_train, predictionsTrain))"
   ]
  },
  {
   "cell_type": "code",
   "execution_count": 45,
   "metadata": {
    "colab": {
     "base_uri": "https://localhost:8080/"
    },
    "id": "ZdQys9T6yxT8",
    "outputId": "6cdcf67e-028f-429d-b6b5-5fe7b6220168"
   },
   "outputs": [
    {
     "name": "stdout",
     "output_type": "stream",
     "text": [
      "Training data precision score =  0.7421483492188268\n",
      "Training data recall score =  0.8060611922279067\n",
      "Training data confusion matrix =  [[216184  83973]\n",
      " [ 58151 241691]]\n"
     ]
    }
   ],
   "source": [
    "training_precision = precision_score(y_train, predictionsTrain)\n",
    "print('Training data precision score = ', training_precision)\n",
    "training_recall = recall_score(y_train, predictionsTrain)\n",
    "print('Training data recall score = ', training_recall)\n",
    "training_matrix = confusion_matrix(y_train, predictionsTrain)\n",
    "print('Training data confusion matrix = ', training_matrix)"
   ]
  },
  {
   "cell_type": "code",
   "execution_count": 46,
   "metadata": {
    "colab": {
     "base_uri": "https://localhost:8080/"
    },
    "id": "cNcSSoBn2prv",
    "outputId": "6e5f1e3f-bb23-4435-b261-e294834af7d7"
   },
   "outputs": [
    {
     "name": "stdout",
     "output_type": "stream",
     "text": [
      "Testing data precision score =  0.7131510727877773\n",
      "Testing data recall score =  0.776191381432159\n",
      "Testing data confusion matrix =  [[68849 31204]\n",
      " [22369 77578]]\n"
     ]
    }
   ],
   "source": [
    "testing_precision = precision_score(y_test, predictionsTest)\n",
    "print('Testing data precision score = ', testing_precision)\n",
    "testing_recall = recall_score(y_test, predictionsTest)\n",
    "print('Testing data recall score = ', testing_recall)\n",
    "testing_matrix = confusion_matrix(y_test, predictionsTest)\n",
    "print('Testing data confusion matrix = ', testing_matrix)"
   ]
  },
  {
   "cell_type": "code",
   "execution_count": null,
   "metadata": {
    "id": "3GNdRCnL2t2b"
   },
   "outputs": [],
   "source": []
  }
 ],
 "metadata": {
  "colab": {
   "collapsed_sections": [],
   "name": "CSE366_Sentiment_Analysis_of_Twitter_Tweets.ipynb",
   "provenance": []
  },
  "kernelspec": {
   "display_name": "Python 3",
   "language": "python",
   "name": "python3"
  },
  "language_info": {
   "codemirror_mode": {
    "name": "ipython",
    "version": 3
   },
   "file_extension": ".py",
   "mimetype": "text/x-python",
   "name": "python",
   "nbconvert_exporter": "python",
   "pygments_lexer": "ipython3",
   "version": "3.8.8"
  }
 },
 "nbformat": 4,
 "nbformat_minor": 1
}
